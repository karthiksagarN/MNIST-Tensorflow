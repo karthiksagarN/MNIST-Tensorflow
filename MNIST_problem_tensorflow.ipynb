{
  "nbformat": 4,
  "nbformat_minor": 0,
  "metadata": {
    "colab": {
      "provenance": []
    },
    "kernelspec": {
      "name": "python3",
      "display_name": "Python 3"
    },
    "language_info": {
      "name": "python"
    }
  },
  "cells": [
    {
      "cell_type": "code",
      "execution_count": null,
      "metadata": {
        "id": "9nLwQ0TYx5Uk"
      },
      "outputs": [],
      "source": [
        "#MNIST\n",
        "from tensorflow.keras.datasets.mnist import load_data"
      ]
    },
    {
      "cell_type": "code",
      "source": [
        "import matplotlib.pyplot as plt\n",
        "%matplotlib inline"
      ],
      "metadata": {
        "id": "Hej6Sd2A12nA"
      },
      "execution_count": null,
      "outputs": []
    },
    {
      "cell_type": "code",
      "source": [
        "(x_train, y_train), (x_test, y_test) = load_data()"
      ],
      "metadata": {
        "id": "VMEsQcVSyC3O"
      },
      "execution_count": null,
      "outputs": []
    },
    {
      "cell_type": "code",
      "source": [
        "x_train"
      ],
      "metadata": {
        "colab": {
          "base_uri": "https://localhost:8080/"
        },
        "id": "LJvYUO2QyfN5",
        "outputId": "f28880b9-c2bc-4b2a-9684-664c2c8b3990"
      },
      "execution_count": null,
      "outputs": [
        {
          "output_type": "execute_result",
          "data": {
            "text/plain": [
              "array([[[0, 0, 0, ..., 0, 0, 0],\n",
              "        [0, 0, 0, ..., 0, 0, 0],\n",
              "        [0, 0, 0, ..., 0, 0, 0],\n",
              "        ...,\n",
              "        [0, 0, 0, ..., 0, 0, 0],\n",
              "        [0, 0, 0, ..., 0, 0, 0],\n",
              "        [0, 0, 0, ..., 0, 0, 0]],\n",
              "\n",
              "       [[0, 0, 0, ..., 0, 0, 0],\n",
              "        [0, 0, 0, ..., 0, 0, 0],\n",
              "        [0, 0, 0, ..., 0, 0, 0],\n",
              "        ...,\n",
              "        [0, 0, 0, ..., 0, 0, 0],\n",
              "        [0, 0, 0, ..., 0, 0, 0],\n",
              "        [0, 0, 0, ..., 0, 0, 0]],\n",
              "\n",
              "       [[0, 0, 0, ..., 0, 0, 0],\n",
              "        [0, 0, 0, ..., 0, 0, 0],\n",
              "        [0, 0, 0, ..., 0, 0, 0],\n",
              "        ...,\n",
              "        [0, 0, 0, ..., 0, 0, 0],\n",
              "        [0, 0, 0, ..., 0, 0, 0],\n",
              "        [0, 0, 0, ..., 0, 0, 0]],\n",
              "\n",
              "       ...,\n",
              "\n",
              "       [[0, 0, 0, ..., 0, 0, 0],\n",
              "        [0, 0, 0, ..., 0, 0, 0],\n",
              "        [0, 0, 0, ..., 0, 0, 0],\n",
              "        ...,\n",
              "        [0, 0, 0, ..., 0, 0, 0],\n",
              "        [0, 0, 0, ..., 0, 0, 0],\n",
              "        [0, 0, 0, ..., 0, 0, 0]],\n",
              "\n",
              "       [[0, 0, 0, ..., 0, 0, 0],\n",
              "        [0, 0, 0, ..., 0, 0, 0],\n",
              "        [0, 0, 0, ..., 0, 0, 0],\n",
              "        ...,\n",
              "        [0, 0, 0, ..., 0, 0, 0],\n",
              "        [0, 0, 0, ..., 0, 0, 0],\n",
              "        [0, 0, 0, ..., 0, 0, 0]],\n",
              "\n",
              "       [[0, 0, 0, ..., 0, 0, 0],\n",
              "        [0, 0, 0, ..., 0, 0, 0],\n",
              "        [0, 0, 0, ..., 0, 0, 0],\n",
              "        ...,\n",
              "        [0, 0, 0, ..., 0, 0, 0],\n",
              "        [0, 0, 0, ..., 0, 0, 0],\n",
              "        [0, 0, 0, ..., 0, 0, 0]]], dtype=uint8)"
            ]
          },
          "metadata": {},
          "execution_count": 34
        }
      ]
    },
    {
      "cell_type": "code",
      "source": [
        "plt.imshow(x_test[0], cmap='gray')\n",
        "plt.show()"
      ],
      "metadata": {
        "colab": {
          "base_uri": "https://localhost:8080/",
          "height": 430
        },
        "id": "-veNzBCRzBRn",
        "outputId": "cd7e4517-5ce4-4413-ea52-fc9cd9137695"
      },
      "execution_count": null,
      "outputs": [
        {
          "output_type": "display_data",
          "data": {
            "text/plain": [
              "<Figure size 640x480 with 1 Axes>"
            ],
            "image/png": "[encoded data removed]"
          },
          "metadata": {}
        }
      ]
    },
    {
      "cell_type": "code",
      "source": [
        "## image data preprocessing"
      ],
      "metadata": {
        "id": "UAJAV14A2PVR"
      },
      "execution_count": null,
      "outputs": []
    },
    {
      "cell_type": "code",
      "source": [
        "x_train = x_train.reshape(60000, 784)/255\n",
        "x_test = x_test.reshape(10000, 784)/255"
      ],
      "metadata": {
        "id": "tJspxBIZ4c_k"
      },
      "execution_count": null,
      "outputs": []
    },
    {
      "cell_type": "code",
      "source": [
        "# converting target columnn innto numeric thrugh catagorical\n",
        "from tensorflow.keras.utils import to_categorical"
      ],
      "metadata": {
        "id": "PUssV9rR4pCm"
      },
      "execution_count": null,
      "outputs": []
    },
    {
      "cell_type": "code",
      "source": [
        "y_train_ohe = to_categorical(y_train)\n",
        "y_test_ohe = to_categorical(y_test)"
      ],
      "metadata": {
        "id": "QhnoCMkj5GKi"
      },
      "execution_count": null,
      "outputs": []
    },
    {
      "cell_type": "code",
      "source": [
        "y_train_ohe.shape"
      ],
      "metadata": {
        "colab": {
          "base_uri": "https://localhost:8080/"
        },
        "id": "HKYpmxYt5plU",
        "outputId": "b12d8843-fd8c-4906-a133-30e4762efbf3"
      },
      "execution_count": null,
      "outputs": [
        {
          "output_type": "execute_result",
          "data": {
            "text/plain": [
              "(60000, 10)"
            ]
          },
          "metadata": {},
          "execution_count": 40
        }
      ]
    },
    {
      "cell_type": "code",
      "source": [
        "y_test_ohe.shape"
      ],
      "metadata": {
        "colab": {
          "base_uri": "https://localhost:8080/"
        },
        "id": "NHqcGQnx5uHJ",
        "outputId": "38cff93d-ce15-4ba4-9fd4-f6cc5ad1e541"
      },
      "execution_count": null,
      "outputs": [
        {
          "output_type": "execute_result",
          "data": {
            "text/plain": [
              "(10000, 10)"
            ]
          },
          "metadata": {},
          "execution_count": 41
        }
      ]
    },
    {
      "cell_type": "code",
      "source": [
        "## MODEL BUILDING"
      ],
      "metadata": {
        "id": "sSuj2LeP5zwV"
      },
      "execution_count": null,
      "outputs": []
    },
    {
      "cell_type": "code",
      "source": [
        "from tensorflow.keras.models import Sequential\n",
        "from tensorflow.keras.layers import Input, Dense, Dropout\n",
        "from tensorflow.keras.optimizers import SGD, Adam\n",
        "from tensorflow.keras.regularizers import L1L2"
      ],
      "metadata": {
        "id": "OtVU1fqY6DYB"
      },
      "execution_count": null,
      "outputs": []
    },
    {
      "cell_type": "code",
      "source": [
        "model = Sequential()"
      ],
      "metadata": {
        "id": "IXhctTLn6N_q"
      },
      "execution_count": null,
      "outputs": []
    },
    {
      "cell_type": "code",
      "source": [
        "model.add(Input(784))\n",
        "# model.add(Dropout(0.25))\n",
        "model.add(Dense(256, activation='relu')) #kernel_regularizer = L1L2(l1 = 0, l2 = 1)\n",
        "model.add(Dense(10, activation='softmax'))\n",
        "# with lasso regularization and elasticNET the model is underfitting\n",
        "# with ridge i is performinngn efficiently"
      ],
      "metadata": {
        "id": "WAGBGAM16Rr8"
      },
      "execution_count": null,
      "outputs": []
    },
    {
      "cell_type": "code",
      "source": [
        "model.compile(optimizer= \"Adam\", loss = \"categorical_crossentropy\", metrics = 'accuracy')"
      ],
      "metadata": {
        "id": "KjXs4nk4AWQD"
      },
      "execution_count": null,
      "outputs": []
    },
    {
      "cell_type": "code",
      "source": [
        "history = model.fit(x=x_train, y=y_train_ohe, epochs = 30, validation_data = (x_test, y_test_ohe), batch_size  = 1000)"
      ],
      "metadata": {
        "colab": {
          "base_uri": "https://localhost:8080/"
        },
        "id": "o3jG5oDgEITi",
        "outputId": "85f8d456-c93c-4078-8766-982b2cf944ba"
      },
      "execution_count": null,
      "outputs": [
        {
          "output_type": "stream",
          "name": "stdout",
          "text": [
            "Epoch 1/30\n",
            "60/60 [==============================] - 3s 39ms/step - loss: 0.6454 - accuracy: 0.8306 - val_loss: 0.2998 - val_accuracy: 0.9144\n",
            "Epoch 2/30\n",
            "60/60 [==============================] - 2s 37ms/step - loss: 0.2670 - accuracy: 0.9255 - val_loss: 0.2290 - val_accuracy: 0.9353\n",
            "Epoch 3/30\n",
            "60/60 [==============================] - 2s 29ms/step - loss: 0.2097 - accuracy: 0.9418 - val_loss: 0.1864 - val_accuracy: 0.9489\n",
            "Epoch 4/30\n",
            "60/60 [==============================] - 3s 53ms/step - loss: 0.1719 - accuracy: 0.9523 - val_loss: 0.1604 - val_accuracy: 0.9552\n",
            "Epoch 5/30\n",
            "60/60 [==============================] - 2s 39ms/step - loss: 0.1458 - accuracy: 0.9598 - val_loss: 0.1409 - val_accuracy: 0.9595\n",
            "Epoch 6/30\n",
            "60/60 [==============================] - 2s 27ms/step - loss: 0.1246 - accuracy: 0.9656 - val_loss: 0.1295 - val_accuracy: 0.9621\n",
            "Epoch 7/30\n",
            "60/60 [==============================] - 2s 26ms/step - loss: 0.1089 - accuracy: 0.9697 - val_loss: 0.1162 - val_accuracy: 0.9645\n",
            "Epoch 8/30\n",
            "60/60 [==============================] - 2s 38ms/step - loss: 0.0955 - accuracy: 0.9736 - val_loss: 0.1063 - val_accuracy: 0.9691\n",
            "Epoch 9/30\n",
            "60/60 [==============================] - 2s 26ms/step - loss: 0.0849 - accuracy: 0.9771 - val_loss: 0.1009 - val_accuracy: 0.9697\n",
            "Epoch 10/30\n",
            "60/60 [==============================] - 1s 22ms/step - loss: 0.0749 - accuracy: 0.9797 - val_loss: 0.0936 - val_accuracy: 0.9734\n",
            "Epoch 11/30\n",
            "60/60 [==============================] - 1s 24ms/step - loss: 0.0678 - accuracy: 0.9813 - val_loss: 0.0887 - val_accuracy: 0.9748\n",
            "Epoch 12/30\n",
            "60/60 [==============================] - 1s 23ms/step - loss: 0.0611 - accuracy: 0.9839 - val_loss: 0.0830 - val_accuracy: 0.9757\n",
            "Epoch 13/30\n",
            "60/60 [==============================] - 1s 24ms/step - loss: 0.0556 - accuracy: 0.9852 - val_loss: 0.0817 - val_accuracy: 0.9759\n",
            "Epoch 14/30\n",
            "60/60 [==============================] - 1s 23ms/step - loss: 0.0502 - accuracy: 0.9870 - val_loss: 0.0778 - val_accuracy: 0.9761\n",
            "Epoch 15/30\n",
            "60/60 [==============================] - 1s 24ms/step - loss: 0.0457 - accuracy: 0.9880 - val_loss: 0.0746 - val_accuracy: 0.9773\n",
            "Epoch 16/30\n",
            "60/60 [==============================] - 2s 28ms/step - loss: 0.0416 - accuracy: 0.9893 - val_loss: 0.0712 - val_accuracy: 0.9787\n",
            "Epoch 17/30\n",
            "60/60 [==============================] - 2s 37ms/step - loss: 0.0383 - accuracy: 0.9909 - val_loss: 0.0714 - val_accuracy: 0.9770\n",
            "Epoch 18/30\n",
            "60/60 [==============================] - 2s 28ms/step - loss: 0.0348 - accuracy: 0.9918 - val_loss: 0.0723 - val_accuracy: 0.9778\n",
            "Epoch 19/30\n",
            "60/60 [==============================] - 1s 22ms/step - loss: 0.0322 - accuracy: 0.9926 - val_loss: 0.0690 - val_accuracy: 0.9793\n",
            "Epoch 20/30\n",
            "60/60 [==============================] - 1s 23ms/step - loss: 0.0292 - accuracy: 0.9937 - val_loss: 0.0678 - val_accuracy: 0.9787\n",
            "Epoch 21/30\n",
            "60/60 [==============================] - 1s 23ms/step - loss: 0.0270 - accuracy: 0.9941 - val_loss: 0.0663 - val_accuracy: 0.9789\n",
            "Epoch 22/30\n",
            "60/60 [==============================] - 1s 23ms/step - loss: 0.0248 - accuracy: 0.9951 - val_loss: 0.0679 - val_accuracy: 0.9796\n",
            "Epoch 23/30\n",
            "60/60 [==============================] - 1s 23ms/step - loss: 0.0231 - accuracy: 0.9955 - val_loss: 0.0667 - val_accuracy: 0.9783\n",
            "Epoch 24/30\n",
            "60/60 [==============================] - 1s 23ms/step - loss: 0.0211 - accuracy: 0.9962 - val_loss: 0.0648 - val_accuracy: 0.9802\n",
            "Epoch 25/30\n",
            "60/60 [==============================] - 2s 29ms/step - loss: 0.0198 - accuracy: 0.9965 - val_loss: 0.0646 - val_accuracy: 0.9798\n",
            "Epoch 26/30\n",
            "60/60 [==============================] - 2s 37ms/step - loss: 0.0182 - accuracy: 0.9969 - val_loss: 0.0634 - val_accuracy: 0.9803\n",
            "Epoch 27/30\n",
            "60/60 [==============================] - 2s 26ms/step - loss: 0.0165 - accuracy: 0.9976 - val_loss: 0.0635 - val_accuracy: 0.9806\n",
            "Epoch 28/30\n",
            "60/60 [==============================] - 1s 23ms/step - loss: 0.0153 - accuracy: 0.9977 - val_loss: 0.0635 - val_accuracy: 0.9805\n",
            "Epoch 29/30\n",
            "60/60 [==============================] - 1s 22ms/step - loss: 0.0141 - accuracy: 0.9981 - val_loss: 0.0648 - val_accuracy: 0.9804\n",
            "Epoch 30/30\n",
            "60/60 [==============================] - 1s 23ms/step - loss: 0.0130 - accuracy: 0.9983 - val_loss: 0.0631 - val_accuracy: 0.9805\n"
          ]
        }
      ]
    },
    {
      "cell_type": "code",
      "source": [
        "history = model.history.history\n",
        "train_loss = history['loss']\n",
        "val_loss = history['val_loss']\n",
        "plt.plot(train_loss)\n",
        "plt.plot(val_loss)\n",
        "plt.legend([\"Train\", \"Validation\"])\n",
        "plt.xlabel('Iterations')\n",
        "plt.ylabel(\"Loss\")\n",
        "plt.grid()\n",
        "plt.title(\"catogorical_crossentropy Loss Curve\")\n",
        "plt.show()"
      ],
      "metadata": {
        "colab": {
          "base_uri": "https://localhost:8080/",
          "height": 472
        },
        "id": "qcboP_5DELC3",
        "outputId": "908f12ed-0ea3-438f-f450-3d7b39aa5142"
      },
      "execution_count": null,
      "outputs": [
        {
          "output_type": "display_data",
          "data": {
            "text/plain": [
              "<Figure size 640x480 with 1 Axes>"
            ],
            "image/png": "[encoded data removed]"
          },
          "metadata": {}
        }
      ]
    },
    {
      "cell_type": "code",
      "source": [
        "history = model.history.history\n",
        "train_acc = history['accuracy']\n",
        "val_acc = history['val_accuracy']\n",
        "plt.plot(train_acc)\n",
        "plt.plot(val_acc)\n",
        "plt.ylim(0.75,1)\n",
        "plt.legend([\"Train\", \"Validation\"])\n",
        "plt.xlabel('Iterations')\n",
        "plt.ylabel(\"accuracy\")\n",
        "plt.grid()\n",
        "plt.title(\"catogorical_crossentropy accuracy Curve\")\n",
        "plt.show()"
      ],
      "metadata": {
        "colab": {
          "base_uri": "https://localhost:8080/",
          "height": 472
        },
        "id": "ZEXApKHnFWH-",
        "outputId": "d2a789f3-41bf-4a1b-babf-d5d1b1320009"
      },
      "execution_count": null,
      "outputs": [
        {
          "output_type": "display_data",
          "data": {
            "text/plain": [
              "<Figure size 640x480 with 1 Axes>"
            ],
            "image/png": "[encoded data removed]"
          },
          "metadata": {}
        }
      ]
    },
    {
      "cell_type": "code",
      "source": [
        "y_pred = model.predict(x_test)"
      ],
      "metadata": {
        "colab": {
          "base_uri": "https://localhost:8080/"
        },
        "id": "5PcpmOAqV-sy",
        "outputId": "f78837c3-4a3b-45db-a3f3-4f26c834d65c"
      },
      "execution_count": null,
      "outputs": [
        {
          "output_type": "stream",
          "name": "stdout",
          "text": [
            "313/313 [==============================] - 1s 2ms/step\n"
          ]
        }
      ]
    },
    {
      "cell_type": "code",
      "source": [
        "import numpy as np\n",
        "y_pred = model.predict(x_test)\n",
        "a = np.argmax(y_pred, axis=1)\n",
        "print(a)"
      ],
      "metadata": {
        "colab": {
          "base_uri": "https://localhost:8080/"
        },
        "id": "VVp-7_S3VMSb",
        "outputId": "398b1be1-d4d6-4586-fc19-7fd9c22ceb82"
      },
      "execution_count": null,
      "outputs": [
        {
          "output_type": "stream",
          "name": "stdout",
          "text": [
            "313/313 [==============================] - 1s 2ms/step\n",
            "[7 2 1 ... 4 5 6]\n"
          ]
        }
      ]
    },
    {
      "cell_type": "code",
      "source": [
        "y_pred.flatten()"
      ],
      "metadata": {
        "colab": {
          "base_uri": "https://localhost:8080/"
        },
        "id": "Fne11ZegHhIY",
        "outputId": "9d2770f2-5e28-4b80-a0a6-fba620b3f0d7"
      },
      "execution_count": null,
      "outputs": [
        {
          "output_type": "execute_result",
          "data": {
            "text/plain": [
              "array([5.3312068e-08, 5.3462723e-10, 8.6847155e-07, ..., 1.3872876e-15,\n",
              "       9.1547735e-11, 3.0598821e-10], dtype=float32)"
            ]
          },
          "metadata": {},
          "execution_count": 52
        }
      ]
    },
    {
      "cell_type": "code",
      "source": [
        "model.weights"
      ],
      "metadata": {
        "colab": {
          "base_uri": "https://localhost:8080/"
        },
        "id": "nUllzAZzHxrt",
        "outputId": "01c533f5-d090-4783-d62f-a0f323889377"
      },
      "execution_count": null,
      "outputs": [
        {
          "output_type": "execute_result",
          "data": {
            "text/plain": [
              "[<tf.Variable 'dense_2/kernel:0' shape=(784, 256) dtype=float32, numpy=\n",
              " array([[ 0.05577603, -0.07007194, -0.05244963, ..., -0.05562106,\n",
              "         -0.0593107 , -0.03515086],\n",
              "        [-0.02463203, -0.04091067,  0.04475388, ...,  0.00180632,\n",
              "          0.01843791, -0.00259666],\n",
              "        [-0.04398376, -0.01886467, -0.02852069, ...,  0.06391929,\n",
              "          0.01380353,  0.01817273],\n",
              "        ...,\n",
              "        [ 0.04687019, -0.01746213,  0.03595526, ...,  0.07308994,\n",
              "         -0.06913258,  0.0630078 ],\n",
              "        [-0.05028635, -0.05551396,  0.04998592, ..., -0.01326505,\n",
              "         -0.06785273,  0.0608086 ],\n",
              "        [ 0.01694622, -0.00429722, -0.0192314 , ..., -0.06516116,\n",
              "         -0.05776732,  0.050209  ]], dtype=float32)>,\n",
              " <tf.Variable 'dense_2/bias:0' shape=(256,) dtype=float32, numpy=\n",
              " array([ 0.01335155, -0.06847305,  0.05767104,  0.02080263,  0.02985284,\n",
              "         0.01923282,  0.08589944,  0.00994668,  0.08515479, -0.01819601,\n",
              "         0.02793024,  0.1041666 , -0.0083299 ,  0.07252348,  0.02132663,\n",
              "         0.04583098,  0.11636852, -0.02335382,  0.0385747 ,  0.03705643,\n",
              "         0.02059177,  0.01539128, -0.06990786, -0.01763324,  0.00271832,\n",
              "         0.00252169, -0.02695698, -0.0114516 ,  0.09355336, -0.03550614,\n",
              "        -0.02944073, -0.08036529,  0.05477789, -0.02608152,  0.06222019,\n",
              "        -0.00136432,  0.00454061,  0.08639244,  0.11132313,  0.06239993,\n",
              "         0.00965617, -0.02544745,  0.07181183, -0.01158626, -0.01754239,\n",
              "         0.00464299,  0.02490185, -0.05347374,  0.04519301,  0.03954808,\n",
              "         0.02198471,  0.05148019,  0.02793269, -0.05796959, -0.05449722,\n",
              "         0.07702923,  0.03702849,  0.00776437,  0.02330839, -0.00915185,\n",
              "        -0.00748497,  0.0209308 , -0.01353193,  0.04144006, -0.07295165,\n",
              "         0.08040221,  0.09139681, -0.0616706 ,  0.03148407, -0.01978435,\n",
              "         0.01707441,  0.04926153,  0.0413556 , -0.0172386 ,  0.08268792,\n",
              "        -0.0527113 , -0.03659279, -0.03887067,  0.04417978, -0.00497722,\n",
              "        -0.02551145,  0.02357844,  0.02907423,  0.06425037,  0.05371714,\n",
              "         0.05680512,  0.02717541,  0.01562107,  0.0828145 , -0.03288301,\n",
              "         0.02680544,  0.03970755,  0.04574043,  0.01426161,  0.04828316,\n",
              "         0.06021519, -0.0062713 ,  0.02115509,  0.01649982,  0.06025657,\n",
              "         0.04872171,  0.04566295, -0.02230354, -0.02737206, -0.05736107,\n",
              "         0.0866795 ,  0.04963002,  0.05549078, -0.02678588,  0.05845876,\n",
              "         0.1188518 ,  0.04614551,  0.05268627,  0.03118141,  0.03745104,\n",
              "        -0.0430909 ,  0.04099653,  0.0741421 , -0.07857915,  0.00892372,\n",
              "         0.09323749, -0.00151339,  0.06401811,  0.02707477, -0.01170656,\n",
              "        -0.00437123,  0.02780202, -0.05871458,  0.04982726, -0.03005182,\n",
              "        -0.03647022,  0.15617959,  0.08508918, -0.01730358, -0.02033194,\n",
              "        -0.03028861,  0.01208986,  0.06140196,  0.03567344, -0.01730088,\n",
              "         0.02002423,  0.01887568,  0.03847428,  0.05782472,  0.03431366,\n",
              "        -0.0064468 ,  0.08898607,  0.05907343, -0.03712749,  0.0496271 ,\n",
              "        -0.06318722,  0.01837088,  0.02396349,  0.03379987, -0.04479383,\n",
              "         0.0115961 ,  0.04577484,  0.06047568,  0.03661156,  0.05050857,\n",
              "         0.03157521,  0.01445915,  0.00127439,  0.06108206,  0.06174082,\n",
              "         0.08130567,  0.03749251,  0.0338236 , -0.03660142, -0.01393691,\n",
              "         0.02414958,  0.05756611,  0.0560829 ,  0.04887242,  0.05012113,\n",
              "        -0.02313872,  0.04540181,  0.05624476,  0.02330685, -0.02037348,\n",
              "         0.00887663,  0.04563936,  0.03896634,  0.01155261,  0.0187811 ,\n",
              "        -0.03215635,  0.04348313,  0.00592986,  0.00648099,  0.01585376,\n",
              "         0.0587857 ,  0.0274396 , -0.03487478,  0.02032509, -0.0593643 ,\n",
              "         0.03243626,  0.02125288, -0.05906724,  0.08331212,  0.08654054,\n",
              "         0.01544376, -0.02655977, -0.01738647,  0.02732744,  0.0588573 ,\n",
              "         0.07922255,  0.01872087,  0.04990139,  0.02000107, -0.0267002 ,\n",
              "         0.04486321,  0.04121136,  0.05234147,  0.04968105,  0.05124557,\n",
              "        -0.01195451,  0.02458471,  0.01350648, -0.02164768, -0.02259416,\n",
              "         0.06017191,  0.02882059,  0.0164888 , -0.00254945, -0.00868779,\n",
              "         0.03766742,  0.08020508,  0.09630472,  0.01829005,  0.00551984,\n",
              "         0.04846843, -0.01050289,  0.00948495,  0.00605058, -0.02988492,\n",
              "        -0.02100071, -0.01524843, -0.02860618,  0.00512173,  0.01222909,\n",
              "        -0.01113633, -0.06093861, -0.03554404, -0.03885921,  0.0419242 ,\n",
              "         0.05961591,  0.00928681,  0.06873263,  0.06306866,  0.07249867,\n",
              "         0.01288948, -0.05736041, -0.00257311,  0.04674739,  0.01498915,\n",
              "         0.03693034], dtype=float32)>,\n",
              " <tf.Variable 'dense_3/kernel:0' shape=(256, 10) dtype=float32, numpy=\n",
              " array([[-0.16533469,  0.19117567, -0.24274735, ...,  0.16389184,\n",
              "         -0.13825402,  0.22143257],\n",
              "        [ 0.18875141,  0.08976399, -0.11159545, ...,  0.03781575,\n",
              "         -0.21935804,  0.12630577],\n",
              "        [ 0.04880501, -0.16847266,  0.0068979 , ..., -0.26556265,\n",
              "          0.05077873,  0.03823071],\n",
              "        ...,\n",
              "        [-0.44672203,  0.2347276 , -0.28031003, ...,  0.15359409,\n",
              "         -0.21866474, -0.7879102 ],\n",
              "        [ 0.07163489, -0.22219202,  0.1256346 , ...,  0.08897088,\n",
              "         -0.22690937,  0.16867931],\n",
              "        [ 0.20320064, -0.15075967, -0.03023005, ...,  0.17419581,\n",
              "          0.05128907,  0.2011082 ]], dtype=float32)>,\n",
              " <tf.Variable 'dense_3/bias:0' shape=(10,) dtype=float32, numpy=\n",
              " array([-0.05972071,  0.00700225,  0.0049506 , -0.04514937,  0.02359913,\n",
              "         0.03817373,  0.00220829, -0.04567909,  0.0364369 ,  0.00368648],\n",
              "       dtype=float32)>]"
            ]
          },
          "metadata": {},
          "execution_count": 53
        }
      ]
    },
    {
      "cell_type": "code",
      "source": [
        "model.summary()"
      ],
      "metadata": {
        "colab": {
          "base_uri": "https://localhost:8080/"
        },
        "id": "Jog-JbPJIieb",
        "outputId": "3a8425e7-07b5-4e2f-a170-2be2639811da"
      },
      "execution_count": null,
      "outputs": [
        {
          "output_type": "stream",
          "name": "stdout",
          "text": [
            "Model: \"sequential_1\"\n",
            "_________________________________________________________________\n",
            " Layer (type)                Output Shape              Param #   \n",
            "=================================================================\n",
            " dense_2 (Dense)             (None, 256)               200960    \n",
            "                                                                 \n",
            " dense_3 (Dense)             (None, 10)                2570      \n",
            "                                                                 \n",
            "=================================================================\n",
            "Total params: 203530 (795.04 KB)\n",
            "Trainable params: 203530 (795.04 KB)\n",
            "Non-trainable params: 0 (0.00 Byte)\n",
            "_________________________________________________________________\n"
          ]
        }
      ]
    },
    {
      "cell_type": "code",
      "source": [],
      "metadata": {
        "id": "Mxc8Tgw5VkNA"
      },
      "execution_count": null,
      "outputs": []
    }
  ]
}